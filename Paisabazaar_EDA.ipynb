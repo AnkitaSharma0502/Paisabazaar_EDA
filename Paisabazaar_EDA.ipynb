{
  "nbformat": 4,
  "nbformat_minor": 0,
  "metadata": {
    "colab": {
      "private_outputs": true,
      "provenance": [],
      "collapsed_sections": [
        "mDgbUHAGgjLW",
        "gIfDvo9L0UH2"
      ]
    },
    "kernelspec": {
      "name": "python3",
      "display_name": "Python 3"
    },
    "language_info": {
      "name": "python"
    }
  },
  "cells": [
    {
      "cell_type": "markdown",
      "source": [
        "# **Project Name** -   **Paisabazaar Banking Fraud Analysis**\n"
      ],
      "metadata": {
        "id": "vncDsAP0Gaoa"
      }
    },
    {
      "cell_type": "markdown",
      "source": [
        "##### **Project Type**    - EDA\n",
        "##### **Contribution**    - Individual\n"
      ],
      "metadata": {
        "id": "beRrZCGUAJYm"
      }
    },
    {
      "cell_type": "markdown",
      "source": [
        "# **Project Summary -**"
      ],
      "metadata": {
        "id": "FJNUwmbgGyua"
      }
    },
    {
      "cell_type": "markdown",
      "source": [
        "In this project i have done analysis of Paisabazaar's credit score data to uncover key drivers of creditworthiness and identify major risk indicators. Using a dataset consisting of 100,000 records with demographic, financial, and behavioral features, the objective was to explore relationships influencing credit scores and thereby support improved risk management and loan approval processes.\n",
        "\n",
        "The analysis included essential data preprocessing steps such as handling numeric and categorical variables, detecting outliers and treating them, creating new features like Debt-to-Income ratio, EMI-to-Salary ratio, Delay Ratio, and a composite Risk Score. These derived metrics capture customer financial stress and suggest repayment behavior.\n",
        "\n",
        "Then i have done univariate, bivariate, and multivariate analysis with visualizations to gain some insights and relations from the data. This revealed that income, credit utilization, delays, outstanding debt, and loan counts significantly influence credit scores and associate reliably with fraud flags.\n",
        "\n",
        "The project demonstrated a thorough, business-aligned approach to data analytics leveraging statistical techniques, domain knowledge, and visualization best practices. The insights gained empower Paisabazaar to develop predictive credit scoring models, personalize financial products, and proactively manage portfolio risk.\n",
        "\n"
      ],
      "metadata": {
        "id": "F6v_1wHtG2nS"
      }
    },
    {
      "cell_type": "markdown",
      "source": [
        "# **GitHub Link -**"
      ],
      "metadata": {
        "id": "w6K7xa23Elo4"
      }
    },
    {
      "cell_type": "markdown",
      "source": [
        "Provide your GitHub Link here."
      ],
      "metadata": {
        "id": "h1o69JH3Eqqn"
      }
    },
    {
      "cell_type": "markdown",
      "source": [
        "# **Problem Statement**\n"
      ],
      "metadata": {
        "id": "yQaldy8SH6Dl"
      }
    },
    {
      "cell_type": "markdown",
      "source": [
        " **Business Context**\n",
        "\n",
        "Paisabazaar is a financial services company that assists customers in finding and applying for various banking and credit products. An integral part of their service is assessing the creditworthiness of individuals, which is crucial for both loan approval and risk management. The credit score of a person is a significant metric used by financial institutions to determine the likelihood that an individual will repay their loans or credit balances. Accurate classification of credit scores can help Paisabazaar enhance their credit assessment processes, reduce the risk of loan defaults, and offer personalized financial advice to their customers.\n",
        "\n",
        "In this context, analyzing and classifying credit scores based on customer data can improve decision-making processes and contribute to better financial product recommendations. This case study aims to develop a model that predicts the credit score of individuals based on various features, such as income, credit card usage, and payment behavior."
      ],
      "metadata": {
        "id": "DpeJGUA3kjGy"
      }
    },
    {
      "cell_type": "markdown",
      "source": [
        "#### **Define Your Business Objective?**"
      ],
      "metadata": {
        "id": "PH-0ReGfmX4f"
      }
    },
    {
      "cell_type": "markdown",
      "source": [
        "The main objective of this study is to improve Paisabazaar's credit assessment process by exploring and analyzing financial and demographic factors influencing credit scores of the customers. By performing Exploratory Data Analysis (EDA), we aim to:\n",
        "\n",
        "Faster Loan Decisions:\n",
        "Enhancing the credit score checking process to cut down on manual work, speed up approvals.\n",
        "\n",
        "Smarter Customer Segmentation:\n",
        "Use of customer's financial and behavioral data to design credit products, interest rates, and repayment plans that suit different customer groups.\n",
        "\n",
        "Better Risk Control:\n",
        "Apply advanced credit scoring to accurately measure customer risk, reduce loan defaults, and keep the loan portfolio healthy.\n",
        "\n",
        "Personalized Financial Solutions:\n",
        "Offer customized product recommendations—like loans, credit cards, or insurance—based on each customer’s financial habits and goals.\n",
        "\n",
        "Build Customer Trust and Loyalty:\n",
        "Share clear, data-driven credit insights and personalized advice to strengthen customer confidence and encourage long-term relationships."
      ],
      "metadata": {
        "id": "PhDvGCAqmjP1"
      }
    },
    {
      "cell_type": "markdown",
      "source": [
        "# **General Guidelines** : -  "
      ],
      "metadata": {
        "id": "mDgbUHAGgjLW"
      }
    },
    {
      "cell_type": "markdown",
      "source": [
        "1.   Well-structured, formatted, and commented code is required.\n",
        "2.   Exception Handling, Production Grade Code & Deployment Ready Code will be a plus. Those students will be awarded some additional credits.\n",
        "     \n",
        "     The additional credits will have advantages over other students during Star Student selection.\n",
        "       \n",
        "             [ Note: - Deployment Ready Code is defined as, the whole .ipynb notebook should be executable in one go\n",
        "                       without a single error logged. ]\n",
        "\n",
        "3.   Each and every logic should have proper comments.\n",
        "4. You may add as many number of charts you want. Make Sure for each and every chart the following format should be answered.\n",
        "        \n",
        "\n",
        "```\n",
        "# Chart visualization code\n",
        "```\n",
        "            \n",
        "\n",
        "*   Why did you pick the specific chart?\n",
        "*   What is/are the insight(s) found from the chart?\n",
        "* Will the gained insights help creating a positive business impact?\n",
        "Are there any insights that lead to negative growth? Justify with specific reason.\n",
        "\n",
        "5. You have to create at least 20 logical & meaningful charts having important insights.\n",
        "\n",
        "\n",
        "[ Hints : - Do the Vizualization in  a structured way while following \"UBM\" Rule.\n",
        "\n",
        "U - Univariate Analysis,\n",
        "\n",
        "B - Bivariate Analysis (Numerical - Categorical, Numerical - Numerical, Categorical - Categorical)\n",
        "\n",
        "M - Multivariate Analysis\n",
        " ]\n",
        "\n",
        "\n",
        "\n"
      ],
      "metadata": {
        "id": "ZrxVaUj-hHfC"
      }
    },
    {
      "cell_type": "markdown",
      "source": [
        "# ***Let's Begin !***"
      ],
      "metadata": {
        "id": "O_i_v8NEhb9l"
      }
    },
    {
      "cell_type": "markdown",
      "source": [
        "## ***1. Know Your Data***"
      ],
      "metadata": {
        "id": "HhfV-JJviCcP"
      }
    },
    {
      "cell_type": "markdown",
      "source": [
        "### Import Libraries"
      ],
      "metadata": {
        "id": "Y3lxredqlCYt"
      }
    },
    {
      "cell_type": "code",
      "source": [
        "# Import Libraries\n",
        "import pandas as pd\n",
        "import numpy as np\n",
        "import missingno\n",
        "import matplotlib.pyplot as plt\n",
        "import seaborn as sns\n",
        "import warnings"
      ],
      "metadata": {
        "id": "M8Vqi-pPk-HR"
      },
      "execution_count": null,
      "outputs": []
    },
    {
      "cell_type": "markdown",
      "source": [
        "### Dataset Loading"
      ],
      "metadata": {
        "id": "3RnN4peoiCZX"
      }
    },
    {
      "cell_type": "code",
      "source": [
        "from google.colab import drive\n",
        "drive.mount('/content/drive')"
      ],
      "metadata": {
        "id": "lbDlPzsoIFym"
      },
      "execution_count": null,
      "outputs": []
    },
    {
      "cell_type": "code",
      "source": [
        "# Load Dataset\n",
        "df=pd.read_csv('/content/drive/MyDrive/dataset.csv')"
      ],
      "metadata": {
        "id": "4CkvbW_SlZ_R"
      },
      "execution_count": null,
      "outputs": []
    },
    {
      "cell_type": "markdown",
      "source": [
        "### Dataset First View"
      ],
      "metadata": {
        "id": "x71ZqKXriCWQ"
      }
    },
    {
      "cell_type": "code",
      "source": [
        "# Dataset First Look\n",
        "df.head(10)"
      ],
      "metadata": {
        "id": "LWNFOSvLl09H"
      },
      "execution_count": null,
      "outputs": []
    },
    {
      "cell_type": "code",
      "source": [
        "# last 10 rows view\n",
        "df.tail(10)"
      ],
      "metadata": {
        "id": "g2nPNaKHKCkg"
      },
      "execution_count": null,
      "outputs": []
    },
    {
      "cell_type": "markdown",
      "source": [
        "### Dataset Rows & Columns count"
      ],
      "metadata": {
        "id": "7hBIi_osiCS2"
      }
    },
    {
      "cell_type": "code",
      "source": [
        "# Dataset Rows & Columns count\n",
        "print(\"rows:\",len(df))\n",
        "print(\"columns:\",len(df.columns))"
      ],
      "metadata": {
        "id": "Kllu7SJgmLij"
      },
      "execution_count": null,
      "outputs": []
    },
    {
      "cell_type": "markdown",
      "source": [
        "### Dataset Information"
      ],
      "metadata": {
        "id": "JlHwYmJAmNHm"
      }
    },
    {
      "cell_type": "code",
      "source": [
        "# Dataset Info\n",
        "df.info()"
      ],
      "metadata": {
        "id": "e9hRXRi6meOf"
      },
      "execution_count": null,
      "outputs": []
    },
    {
      "cell_type": "markdown",
      "source": [
        "Here, the columns - Occupation, Type_of_Loan, Credit_Mix, Payment_of_Min_Amount, Payment_Behaviour, Credit_Score are categorical. Hence, we modify the datatypes of these columns to category."
      ],
      "metadata": {
        "id": "tTShNPU_eR-Z"
      }
    },
    {
      "cell_type": "code",
      "source": [
        "# object -> category, it saves memory and is fast to retreive.\n",
        "df.Occupation = df.Occupation.astype('category')\n",
        "df.Type_of_Loan = df.Type_of_Loan.astype('category')\n",
        "df.Credit_Mix = df.Credit_Mix.astype('category')\n",
        "df.Payment_of_Min_Amount = df.Payment_of_Min_Amount.astype('category')\n",
        "df.Payment_Behaviour = df.Payment_Behaviour.astype('category')\n",
        "df.Credit_Score = df.Credit_Score.astype('category')"
      ],
      "metadata": {
        "id": "D_w1x6CTHbeh"
      },
      "execution_count": null,
      "outputs": []
    },
    {
      "cell_type": "code",
      "source": [
        "df.info()"
      ],
      "metadata": {
        "id": "pvt50U_wHun_"
      },
      "execution_count": null,
      "outputs": []
    },
    {
      "cell_type": "markdown",
      "source": [
        "#### Duplicate Values"
      ],
      "metadata": {
        "id": "35m5QtbWiB9F"
      }
    },
    {
      "cell_type": "code",
      "source": [
        "# Dataset Duplicate Value Count\n",
        "df.duplicated().sort_values(ascending = False)\n"
      ],
      "metadata": {
        "id": "1sLdpKYkmox0"
      },
      "execution_count": null,
      "outputs": []
    },
    {
      "cell_type": "code",
      "source": [
        "#removing repeated rows with all same values\n",
        "df.drop_duplicates(inplace=True)\n"
      ],
      "metadata": {
        "id": "EJiSzBQNHaKB"
      },
      "execution_count": null,
      "outputs": []
    },
    {
      "cell_type": "code",
      "source": [
        "len(df) #length is same no duplicate rows"
      ],
      "metadata": {
        "id": "Fs0-e8nVcjAp"
      },
      "execution_count": null,
      "outputs": []
    },
    {
      "cell_type": "markdown",
      "source": [
        "#### Missing Values/Null Values"
      ],
      "metadata": {
        "id": "PoPl-ycgm1ru"
      }
    },
    {
      "cell_type": "code",
      "source": [
        "# Missing Values/Null Values Count\n",
        "df.isnull().sum()"
      ],
      "metadata": {
        "id": "GgHWkxvamxVg"
      },
      "execution_count": null,
      "outputs": []
    },
    {
      "cell_type": "code",
      "source": [
        "# Visualizing the missing values\n",
        "sns.heatmap(df.isnull(), cbar=False)\n",
        "plt.show()"
      ],
      "metadata": {
        "id": "3q5wnI3om9sJ"
      },
      "execution_count": null,
      "outputs": []
    },
    {
      "cell_type": "markdown",
      "source": [
        "### What did you know about your dataset?"
      ],
      "metadata": {
        "id": "H0kj-8xxnORC"
      }
    },
    {
      "cell_type": "markdown",
      "source": [
        "The dataset given is credit risk classification dataset with 100k records and 12.5k unique customers. It combines demographic, financial, and behavioral variables to predict a customer’s Credit Score.No duplicates and null values were there. A few entities had incorrect data types, which I corrected. This dataset provides a strong foundation for building a credit scoring model that can help financial institutions assess creditworthiness, reduce loan defaults, and improve risk management strategies."
      ],
      "metadata": {
        "id": "gfoNAAC-nUe_"
      }
    },
    {
      "cell_type": "markdown",
      "source": [
        "## ***2. Understanding Your Variables***"
      ],
      "metadata": {
        "id": "nA9Y7ga8ng1Z"
      }
    },
    {
      "cell_type": "code",
      "source": [
        "# Dataset Columns\n",
        "df.columns"
      ],
      "metadata": {
        "id": "j7xfkqrt5Ag5"
      },
      "execution_count": null,
      "outputs": []
    },
    {
      "cell_type": "code",
      "source": [
        "# Dataset Describe\n",
        "df.describe().T"
      ],
      "metadata": {
        "id": "DnOaZdaE5Q5t"
      },
      "execution_count": null,
      "outputs": []
    },
    {
      "cell_type": "code",
      "source": [
        "#Check statistical values for fields with other than numerical datatype\n",
        "df.describe(exclude=np.number).T"
      ],
      "metadata": {
        "id": "geB9tHCN5WSD"
      },
      "execution_count": null,
      "outputs": []
    },
    {
      "cell_type": "markdown",
      "source": [
        "### Variables Description"
      ],
      "metadata": {
        "id": "PBTbrJXOngz2"
      }
    },
    {
      "cell_type": "markdown",
      "source": [
        " | **Variable Name**              | **Description**                                                            |\n",
        "| ------------------------------ | -------------------------------------------------------------------------- |\n",
        "| **ID**                         | Unique ID of the record                                                    |\n",
        "| **Customer\\_ID**               | Unique ID of the customer                                                  |\n",
        "| **Month**                      | Month of the year                                                          |\n",
        "| **Name**                       | The name of the person                                                     |\n",
        "| **Age**                        | The age of the person                                                      |\n",
        "| **SSN**                        | Social Security Number of the person                                       |\n",
        "| **Occupation**                 | Occupation of the person                                                   |\n",
        "| **Annual\\_Income**             | Annual income of the person                                                |\n",
        "| **Monthly\\_Inhand\\_Salary**    | Monthly in-hand salary of the person                                       |\n",
        "| **Num\\_Bank\\_Accounts**        | Number of bank accounts of the person                                      |\n",
        "| **Num\\_Credit\\_Card**          | Number of credit cards the person has                                      |\n",
        "| **Interest\\_Rate**             | Interest rate on the credit card of the person                             |\n",
        "| **Num\\_of\\_Loan**              | Number of loans taken by the person from the bank                          |\n",
        "| **Type\\_of\\_Loan**             | Types of loans taken by the person from the bank                           |\n",
        "| **Delay\\_from\\_due\\_date**     | Average number of days delayed by the person from the due date of payment  |\n",
        "| **Num\\_of\\_Delayed\\_Payment**  | Total number of payments delayed by the person                             |\n",
        "| **Changed\\_Credit\\_Card**      | Percentage change in the credit card limit of the person                   |\n",
        "| **Num\\_Credit\\_Inquiries**     | Number of credit card inquiries by the person                              |\n",
        "| **Credit\\_Mix**                | Classification of credit mix of the customer                               |\n",
        "| **Outstanding\\_Debt**          | Total outstanding balance of the person                                    |\n",
        "| **Credit\\_Utilization\\_Ratio** | Credit utilization ratio of the credit card of the customer                |\n",
        "| **Credit\\_History\\_Age**       | Age of the credit history of the person                                    |\n",
        "| **Payment\\_of\\_Min\\_Amount**   | Whether the person paid the minimum amount due (Yes = paid, No = not paid) |\n",
        "| **Total\\_EMI\\_per\\_month**     | Total EMI per month of the person                                          |\n",
        "| **Amount\\_invested\\_monthly**  | Monthly amount invested by the person                                      |\n"
      ],
      "metadata": {
        "id": "aJV4KIxSnxay"
      }
    },
    {
      "cell_type": "markdown",
      "source": [
        "### Check Unique Values for each variable."
      ],
      "metadata": {
        "id": "u3PMJOP6ngxN"
      }
    },
    {
      "cell_type": "code",
      "source": [
        "# Check Unique Values for each variable.\n",
        "for i in df.columns.tolist():\n",
        "  print(i,\":  \",df[i].nunique())"
      ],
      "metadata": {
        "id": "zms12Yq5n-jE"
      },
      "execution_count": null,
      "outputs": []
    },
    {
      "cell_type": "markdown",
      "source": [
        "credit score values\n"
      ],
      "metadata": {
        "id": "7u_Ib_Er1Ni3"
      }
    },
    {
      "cell_type": "code",
      "source": [
        "credit_score_values= df['Credit_Score'].unique()\n",
        "print(credit_score_values)"
      ],
      "metadata": {
        "id": "L0p5bfgD1QAB"
      },
      "execution_count": null,
      "outputs": []
    },
    {
      "cell_type": "markdown",
      "source": [
        "Month has only 8 unique values. Better to analyse further which months are present.\n"
      ],
      "metadata": {
        "id": "JKpxkIkH5g0-"
      }
    },
    {
      "cell_type": "markdown",
      "source": [
        "## 3. ***Data Wrangling***"
      ],
      "metadata": {
        "id": "dauF4eBmngu3"
      }
    },
    {
      "cell_type": "markdown",
      "source": [
        "### Data Wrangling Code"
      ],
      "metadata": {
        "id": "bKJF3rekwFvQ"
      }
    },
    {
      "cell_type": "code",
      "source": [
        "# Write your code to make your dataset analysis ready.\n",
        "\n",
        "# removing columns which are not of use\n",
        "df.drop(['ID','Customer_ID','Name','SSN'], axis=1, inplace=True)\n",
        "\n",
        "#selecting numerical columns\n",
        "numerical_cols = df.select_dtypes(include=[np.number])\n",
        "print(\"numeric columns: \",numerical_cols.columns)\n",
        "\n",
        "#selecting categorical columns\n",
        "categorical_cols = df.select_dtypes(include=['object', 'category'])\n",
        "print(\"categorical columns: \",categorical_cols.columns)\n"
      ],
      "metadata": {
        "id": "wk-9a2fpoLcV"
      },
      "execution_count": null,
      "outputs": []
    },
    {
      "cell_type": "code",
      "source": [
        "# detecting outliers in numeric continuous columns\n",
        "columns_to_check = ['Annual_Income', 'Outstanding_Debt', 'Monthly_Balance',\n",
        "                    'Credit_Utilization_Ratio', 'Delay_from_due_date', 'Total_EMI_per_month']\n",
        "# visualy checking outliers using boxplot\n",
        "print(\"Before outlier treatment\")\n",
        "\n",
        "plt.figure(figsize=(12,7))\n",
        "for i, col in enumerate(columns_to_check, 1):\n",
        "    plt.subplot(2, 3, i)\n",
        "    sns.boxplot(x=df[col])\n",
        "    plt.title(f'Boxplot of {col}')\n",
        "plt.tight_layout()\n",
        "plt.show()\n",
        "\n",
        "# IQR calculation\n",
        "outlier_indices = dict()\n",
        "\n",
        "for col in columns_to_check:\n",
        "    Q1 = df[col].quantile(0.25)\n",
        "    Q3 = df[col].quantile(0.75)\n",
        "    IQR = Q3 - Q1\n",
        "    lower_bound = Q1 - 1.5 * IQR\n",
        "    upper_bound = Q3 + 1.5 * IQR\n",
        "\n",
        "    outliers = df[(df[col] < lower_bound) | (df[col] > upper_bound)].index\n",
        "    outlier_indices[col] = outliers\n",
        "    print(f\"{col} has {len(outliers)} outliers\")\n",
        "\n"
      ],
      "metadata": {
        "id": "7cQsqrPFADCY"
      },
      "execution_count": null,
      "outputs": []
    },
    {
      "cell_type": "code",
      "source": [
        "#checking summary stats for high outlier col\n",
        "cols = ['Monthly_Balance', 'Outstanding_Debt', 'Total_EMI_per_month']\n",
        "print(df[cols].describe())"
      ],
      "metadata": {
        "id": "XGQQAFTxsRoW"
      },
      "execution_count": null,
      "outputs": []
    },
    {
      "cell_type": "markdown",
      "source": [
        "**Insights:**\n",
        "\n",
        "* Monthly_Balance:\n",
        "\n",
        "  Skewed high values- The maximum is about 6x the mean, indicating some customers have much higher balances than typical.\n",
        "\n",
        "* Outstanding_Debt:\n",
        "\n",
        "   High spread- The maximum is over 3.5x the mean, can indicate financial risk or potential errors.\n",
        "\n",
        "* Total_EMI_per_month:\n",
        "\n",
        "  Very high outliers- The max is more than 16x the mean, suggesting a few customers have much larger EMI obligations."
      ],
      "metadata": {
        "id": "MIfV60HFuWYQ"
      }
    },
    {
      "cell_type": "code",
      "source": [
        "#checking outliers\n",
        "cols = ['Monthly_Balance', 'Outstanding_Debt', 'Total_EMI_per_month']\n",
        "for col in cols:\n",
        "    print(f\"Top outliers for {col}:\")\n",
        "    print(df[[col,'Age', 'Annual_Income', 'Occupation']].sort_values(by=col, ascending=False).head(5))\n"
      ],
      "metadata": {
        "id": "VRKIJkv6wz5I"
      },
      "execution_count": null,
      "outputs": []
    },
    {
      "cell_type": "markdown",
      "source": [
        "**Insights:**\n",
        "\n",
        "* The combination of high income and balance here looks plausible and consistent\n",
        "for a professional.\n",
        "\n",
        "* Moderate income with high debt may indicate financial stress but is not necessarily an error.\n",
        "* Given a high annual income, this large EMI is likely plausible."
      ],
      "metadata": {
        "id": "8jBItAAg11o_"
      }
    },
    {
      "cell_type": "code",
      "source": [
        "#treating outliers\n",
        "print(f\"Rows before dropping outliers :{len(df)}\")\n",
        "# Define columns to cap\n",
        "columns_to_cap = ['Annual_Income', 'Outstanding_Debt', 'Monthly_Balance',\n",
        "                  'Delay_from_due_date', 'Total_EMI_per_month']\n",
        "\n",
        "for col in columns_to_cap:\n",
        "    lower_cap = df[col].quantile(0.01)  # 1st percentile\n",
        "    upper_cap = df[col].quantile(0.99)  # 99th percentile\n",
        "    df[col] = df[col].clip(lower=lower_cap, upper=upper_cap)\n",
        "    print(f\"{col}: capped at [{lower_cap:.2f}, {upper_cap:.2f}]\")\n",
        "\n",
        "# Define columns to remove outliers\n",
        "col = 'Credit_Utilization_Ratio'\n",
        "\n",
        "Q1 = df[col].quantile(0.25)\n",
        "Q3 = df[col].quantile(0.75)\n",
        "IQR = Q3 - Q1\n",
        "lower_bound = Q1 - 1.5 * IQR\n",
        "upper_bound = Q3 + 1.5 * IQR\n",
        "\n",
        "# Filter to keep only rows within bounds for Credit_Utilization_Ratio\n",
        "df = df[(df[col] >= lower_bound) & (df[col] <= upper_bound)]\n",
        "\n",
        "\n",
        "print(f\"Rows remaining after dropping outliers in {col}: {len(df)}\")"
      ],
      "metadata": {
        "id": "7IQGkj69w--j"
      },
      "execution_count": null,
      "outputs": []
    },
    {
      "cell_type": "code",
      "source": [
        "# visualy checking outliers after handeling them using boxplot\n",
        "plt.figure(figsize=(12,7))\n",
        "for i, col in enumerate(columns_to_check, 1):\n",
        "    plt.subplot(2, 3, i)\n",
        "    sns.boxplot(x=df[col])\n",
        "    plt.title(f'Boxplot of {col}')\n",
        "plt.tight_layout()\n",
        "plt.show()\n"
      ],
      "metadata": {
        "id": "W3DDPjieEhRv"
      },
      "execution_count": null,
      "outputs": []
    },
    {
      "cell_type": "code",
      "source": [
        "#checking stats of rows after removing outliers\n",
        "cols = ['Monthly_Balance', 'Outstanding_Debt', 'Total_EMI_per_month']\n",
        "print(df[cols].describe())"
      ],
      "metadata": {
        "id": "D3bUWVGmSDPp"
      },
      "execution_count": null,
      "outputs": []
    },
    {
      "cell_type": "markdown",
      "source": [
        "**Insights:**\n",
        "\n",
        "* Maximums are capped:\n",
        "\n",
        "           Monthly_Balance: 1054.67\n",
        "\n",
        "           Outstanding_Debt: 4806.97\n",
        "\n",
        "           Total_EMI_per_month: 592.72\n",
        "\n",
        "* Standard deviations decrease notably, which means extremes no longer distort overall distribution.\n",
        "\n",
        "* Means and medians stay quite similar: This ensures your main data characteristics have not shifted unnaturally."
      ],
      "metadata": {
        "id": "SjgyZUUxTUR1"
      }
    },
    {
      "cell_type": "code",
      "source": [
        "#Creating new columns for analysis,\n",
        "# to avoid division by zero, replacing zero or null denominators with NaN\n",
        "df['Annual_Income'] = df['Annual_Income'].replace(0, np.nan)\n",
        "df['Monthly_Inhand_Salary'] = df['Monthly_Inhand_Salary'].replace(0, np.nan)\n",
        "df['Credit_History_Age'] = df['Credit_History_Age'].fillna(0)\n",
        "\n",
        "# Debt to Income Ratio\n",
        "df['Debt_to_Income'] = df['Outstanding_Debt'] / df['Annual_Income']\n",
        "df['Debt_to_Income'] = df['Debt_to_Income'].fillna(0)\n",
        "\n",
        "# EMI to Salary Ratio\n",
        "df['EMI_to_Salary'] = df['Total_EMI_per_month'] / df['Monthly_Inhand_Salary']\n",
        "df['EMI_to_Salary']=df['EMI_to_Salary'].fillna(0)\n",
        "\n",
        "# High Utilization Flag: 1 if Credit Utilization > 80%, else 0\n",
        "df['High_Utilization_Flag'] = (df['Credit_Utilization_Ratio'] > 0.8).astype(int)\n",
        "\n",
        "# Delay Ratio: Number of Delayed Payments normalized by credit history age + 1\n",
        "df['Delay_Ratio'] = df['Num_of_Delayed_Payment'] / (df['Credit_History_Age'] + 1)\n",
        "\n",
        "# Negative Balance Flag: 1 if Monthly Balance is negative, else 0\n",
        "df['Negative_Balance_Flag'] = (df['Monthly_Balance'] < 0).astype(int)\n",
        "\n",
        "\n",
        "# Risk Score composite index with weights assigned\n",
        "df['Risk_Score'] = (\n",
        "    0.4 * df['Debt_to_Income'] +\n",
        "    0.3 * df['EMI_to_Salary'] +\n",
        "    0.2 * df['High_Utilization_Flag'] +\n",
        "    0.1 * df['Negative_Balance_Flag']\n",
        ")\n",
        "\n",
        "\n",
        "# Summary to check statistics\n",
        "print(df[['Debt_to_Income', 'EMI_to_Salary', 'Delay_Ratio','Risk_Score']].describe())"
      ],
      "metadata": {
        "id": "m2_YzZQMIOUm"
      },
      "execution_count": null,
      "outputs": []
    },
    {
      "cell_type": "markdown",
      "source": [
        "**Insights:**\n",
        "\n",
        "Most customers have modest debt and EMI relative to income. High outliers in these ratios could flag customers with financial strain or potential fraud risk.\n",
        "\n",
        "Delay behaviors show some customers have frequent payment delays, which is critical for credit risk.\n",
        "\n",
        "Risk_Score combines key factors and can be used directly in modeling to classify or predict fraud/credit issues."
      ],
      "metadata": {
        "id": "W0eTA2fBM1tc"
      }
    },
    {
      "cell_type": "code",
      "source": [
        "# Creating binary fraud flag if “Credit_Score”\n",
        "df['Risk_Flag'] = df['Credit_Score'].apply(lambda x: 1 if x == 'Poor' else 0)\n",
        "\n",
        "# # Age Groups (bins)\n",
        "bins = [18, 25, 35, 45, 60, 100]\n",
        "labels = ['18-25', '26-35', '36-45', '46-60', '60+']\n",
        "df['Age_Group'] = pd.cut(df['Age'], bins=bins, labels=labels, right=False)\n",
        "\n"
      ],
      "metadata": {
        "id": "8UL3259pMrjZ"
      },
      "execution_count": null,
      "outputs": []
    },
    {
      "cell_type": "markdown",
      "source": [
        "### What all manipulations have you done and insights you found?\n",
        "# **Steps Done**\n",
        "\n",
        "* **Removed Unwanted Columns**\n",
        "\n",
        "  Unique IDs like (customer ID, account number,SSN) are not useful for pattern finding. Similarly constant/redundant column are not useful.\n",
        "  \n",
        "\n",
        "* **Data Segrigation**\n",
        "\n",
        "  Seperated categorical variables and numerical variables columns.\n",
        "\n",
        "\n",
        "* **Outlier Detection and Treatment**\n",
        "\n",
        "  Detected outliers in key continuous numeric columns (Annual_Income, Outstanding_Debt, Monthly_Balance, Credit_Utilization_Ratio, Delay_from_due_date, Total_EMI_per_month) using the IQR method.\n",
        "\n",
        "* **Visualized outliers with Boxplots**\n",
        "\n",
        "  Winsorized (capped) outliers in major numeric columns at 1st and 99th percentiles to reduce skew and impact of extreme values.\n",
        "\n",
        "  Dropped extreme outliers only in Credit_Utilization_Ratio to keep dataset balanced.\n",
        "\n",
        "* **Feature Engineering**\n",
        "\n",
        "  Created new financial risk-related variables: Debt_to_Income, EMI_to_Salary, Delay_Ratio.\n",
        "\n",
        "  Created flag variables: High_Utilization_Flag, Negative_Balance_Flag.\n",
        "\n",
        "  Calculated composite Risk_Score based on weighted sum of above features.\n",
        "\n",
        "  Handled zeros and missing values in denominators to avoid division errors in these new variables.\n",
        "\n",
        "* **Binary Target Variable Creation**\n",
        "\n",
        "  Derived a binary Risk_Flag from Credit_Score (“Poor” labeled as fraud) for modeling.\n",
        "\n",
        "\n",
        "# Insights:\n",
        "\n",
        "Outlier Patterns:\n",
        "Certain customers have significantly higher debt and EMI relative to income, likely signaling financial strain or fraud risk.\n",
        "\n",
        "Distributions Suggest Skew:\n",
        "The majority of customers maintain low Debt_to_Income and EMI_to_Salary ratios, but a long tail of high values exists.\n",
        "\n",
        "Delay Behavior:\n",
        "Many customers have few delayed payments relative to credit history, but some show frequent delays, important for risk profiling.\n",
        "\n",
        "\n",
        "Risk Score Utility:\n",
        "A composite Risk_Score that integrates multiple financial stress indicators offers a meaningful single metric for further analysis and fraud prediction."
      ],
      "metadata": {
        "id": "MSa1f5Uengrz"
      }
    },
    {
      "cell_type": "markdown",
      "source": [
        "## ***4. Data Vizualization, Storytelling & Experimenting with charts : Understand the relationships between variables***"
      ],
      "metadata": {
        "id": "GF8Ens_Soomf"
      }
    },
    {
      "cell_type": "markdown",
      "source": [
        "# **Univariate Analysis**\n",
        "* Single variable analysis\n",
        "* Individual report\n",
        "\n",
        "Graphs:\n",
        "\n",
        "Histogram: Shows the frequency distribution.\n",
        "\n",
        "Box Plot: Highlights the spread and outliers.\n",
        "\n",
        "countplot : Used to find count of categories.\n",
        "\n",
        "Pie chart: To find proportion of categories."
      ],
      "metadata": {
        "id": "RFx_pU9BDeJY"
      }
    },
    {
      "cell_type": "markdown",
      "source": [
        "#### Chart - 1"
      ],
      "metadata": {
        "id": "0wOQAZs5pc--"
      }
    },
    {
      "cell_type": "markdown",
      "source": [
        "What is the distribution of Annual Income?"
      ],
      "metadata": {
        "id": "junCiQrEO6uw"
      }
    },
    {
      "cell_type": "code",
      "source": [
        "# Chart - 1 visualization code\n",
        "\n",
        "# Histogram for Annual Income\n",
        "plt.figure(figsize=(10,6))\n",
        "sns.histplot(df['Annual_Income'], bins=30, kde=True)\n",
        "plt.title('Distribution of Annual Income')\n",
        "plt.xlabel('Annual Income')\n",
        "plt.ylabel('Frequency')\n",
        "plt.show()\n"
      ],
      "metadata": {
        "id": "7v_ESjsspbW7"
      },
      "execution_count": null,
      "outputs": []
    },
    {
      "cell_type": "markdown",
      "source": [
        "##### 1. Why did you pick the specific chart?"
      ],
      "metadata": {
        "id": "K5QZ13OEpz2H"
      }
    },
    {
      "cell_type": "markdown",
      "source": [
        "Annual income distribution is very critical for financial platforms as it directly influences loan eligibility, risk segmentation,return policy and marketing strategies for various financial products."
      ],
      "metadata": {
        "id": "XESiWehPqBRc"
      }
    },
    {
      "cell_type": "markdown",
      "source": [
        "##### 2. What is/are the insight(s) found from the chart?"
      ],
      "metadata": {
        "id": "lQ7QKXXCp7Bj"
      }
    },
    {
      "cell_type": "markdown",
      "source": [
        "The distribution is right-skewed, with most customers clustered in lower annual income brackets (under 40,000). Highest frequency is observed around 18,000-20,000, and then frequency tapers off as income rises.\n",
        "\n",
        "There are several small peaks at higher income ranges, hinting at potential sub-populations such as salaried professionals, business owners, or self-employed individuals with variable incomes.\n",
        "\n",
        "The number of customers with annual income above 120,000 is very low compared to the lower income segments, indicating that focus is towards middle and lower-income customers.\n"
      ],
      "metadata": {
        "id": "C_j1G7yiqdRP"
      }
    },
    {
      "cell_type": "markdown",
      "source": [
        "##### 3. Will the gained insights help creating a positive business impact?\n",
        "Are there any insights that lead to negative growth? Justify with specific reason."
      ],
      "metadata": {
        "id": "448CDAPjqfQr"
      }
    },
    {
      "cell_type": "markdown",
      "source": [
        "Positive growth by designing products tailored for middle-income groups\n",
        "increasing product take-up.\n",
        "\n",
        "These insights are valuable for optimizing loan products, designing tiered interest rates, and targeting credit card promotions for the most dominant customer segments. Understanding that most customers belong to lower income brackets will allow Paisabazaar to prioritize affordable loan offerings and devise appropriate risk profiles.\n",
        "\n",
        "Recognizing minority segments at higher income ranges can lead to development of premium financial products or exclusive services, enhancing customer retention among more affluent users.\n"
      ],
      "metadata": {
        "id": "3cspy4FjqxJW"
      }
    },
    {
      "cell_type": "markdown",
      "source": [
        "#### Chart - 2"
      ],
      "metadata": {
        "id": "KSlN3yHqYklG"
      }
    },
    {
      "cell_type": "markdown",
      "source": [
        "How is Age distributed among customers?"
      ],
      "metadata": {
        "id": "oDnQJpuNzTTp"
      }
    },
    {
      "cell_type": "code",
      "source": [
        "# Chart - 2 visualization code\n",
        "plt.figure(figsize=(10,6))\n",
        "sns.histplot(df['Age'], bins=40, kde=False, color='skyblue')\n",
        "plt.title('Age Distribution of Customers')\n",
        "plt.xlabel('Age')\n",
        "plt.ylabel('Count')\n",
        "plt.show()"
      ],
      "metadata": {
        "id": "R4YgtaqtYklH"
      },
      "execution_count": null,
      "outputs": []
    },
    {
      "cell_type": "markdown",
      "source": [
        "##### 1. Why did you pick the specific chart?"
      ],
      "metadata": {
        "id": "t6dVpIINYklI"
      }
    },
    {
      "cell_type": "markdown",
      "source": [
        "Age distribution provides insights into the demographic profile that influences borrowing behavior, credit risk, and marketing strategies.\n",
        "\n"
      ],
      "metadata": {
        "id": "5aaW0BYyYklI"
      }
    },
    {
      "cell_type": "markdown",
      "source": [
        "##### 2. What is/are the insight(s) found from the chart?"
      ],
      "metadata": {
        "id": "ijmpgYnKYklI"
      }
    },
    {
      "cell_type": "markdown",
      "source": [
        "The chart shows a relatively uniform distribution of customer ages between 18 and 45, with no major skews except one sharp spike around age 35, where customer count jumps significantly. This suggests that a large portion of the customer base is in their mid-30s, which could be either due to marketing focus on this age group, or product eligibility restrictions.\n",
        "\n",
        "There are noticeably fewer customers in the higher age brackets (45+), with a gradual decline after age 45. Young adults (18-30) also form a substantial segment but without the pronounced spike seen at age 35.\n",
        "\n",
        "The pronounced outlier at 35 may indicate a heavy marketing push towards this specific age group."
      ],
      "metadata": {
        "id": "PSx9atu2YklI"
      }
    },
    {
      "cell_type": "markdown",
      "source": [
        "##### 3. Will the gained insights help creating a positive business impact?\n",
        "Are there any insights that lead to negative growth? Justify with specific reason."
      ],
      "metadata": {
        "id": "-JiQyfWJYklI"
      }
    },
    {
      "cell_type": "markdown",
      "source": [
        "Yes, these insights are important for targeting and optimizing campaigns. The spike at age 35 , if valid it signals a potential goldmine for targeted marketing or tailored loan products.\n",
        "\n",
        "The heavier middle age segments suggest these customers may be more active financially and present less risk compared to younger or older groups, guiding policymakers and marketers on priority.\n",
        "\n",
        "The drop-off in older age groups could inspire new financial products or outreach programs for older, underrepresented segments, improving inclusion and unlocking new revenue streams."
      ],
      "metadata": {
        "id": "BcBbebzrYklV"
      }
    },
    {
      "cell_type": "markdown",
      "source": [
        "#### Chart - 3"
      ],
      "metadata": {
        "id": "EM7whBJCYoAo"
      }
    },
    {
      "cell_type": "markdown",
      "source": [
        "What is the range and variation of Credit Utilization Ratio?"
      ],
      "metadata": {
        "id": "3H_JRlUY0Cw_"
      }
    },
    {
      "cell_type": "code",
      "source": [
        "# Chart - 3 visualization code\n",
        "plt.figure(figsize=(8,5))\n",
        "sns.boxplot(x=df['Credit_Utilization_Ratio'])\n",
        "plt.title('Boxplot of Credit Utilization Ratio')\n",
        "plt.xlabel('Credit Utilization Ratio')\n",
        "plt.show()"
      ],
      "metadata": {
        "id": "t6GMdE67YoAp"
      },
      "execution_count": null,
      "outputs": []
    },
    {
      "cell_type": "markdown",
      "source": [
        "##### 1. Why did you pick the specific chart?"
      ],
      "metadata": {
        "id": "fge-S5ZAYoAp"
      }
    },
    {
      "cell_type": "markdown",
      "source": [
        "Boxplots illustrate the range, median, and outliers of credit utilization, indicating how customers use credit lines relative to limits, a direct risk factor.\n"
      ],
      "metadata": {
        "id": "5dBItgRVYoAp"
      }
    },
    {
      "cell_type": "markdown",
      "source": [
        "##### 2. What is/are the insight(s) found from the chart?"
      ],
      "metadata": {
        "id": "85gYPyotYoAp"
      }
    },
    {
      "cell_type": "markdown",
      "source": [
        "Most customers show moderate credit utilization, with outliers reflecting either credit overuse or underuse. High utilization indicates potential stress on credit capacity and higher default risk.\n",
        "The median credit utilization ratio appears to be around 33–35, with the interquartile range (the main box) stretching from roughly 27 to 36.\n",
        "\n",
        "The whiskers extend from approximately 21 to 49, suggesting relatively spread-out values but with no indication of extreme outliers or problematic values in this sample.\n",
        "\n",
        "Most customers cluster around a moderate credit usage rate, meaning they are not excessively over-leveraged, which is generally a favorable sign for lenders evaluating credit risk."
      ],
      "metadata": {
        "id": "4jstXR6OYoAp"
      }
    },
    {
      "cell_type": "markdown",
      "source": [
        "##### 3. Will the gained insights help creating a positive business impact?\n",
        "Are there any insights that lead to negative growth? Justify with specific reason."
      ],
      "metadata": {
        "id": "RoGjAbkUYoAp"
      }
    },
    {
      "cell_type": "markdown",
      "source": [
        "Monitoring and managing customers with high utilization allows proactive risk management and fraud detection, improving portfolio health. Encouraging optimal utilization can enhance creditworthiness and customer satisfaction.\n",
        "\n",
        "Finance teams can use this boxplot for benchmarking, early warning, and developing targeted strategies for users at the higher or lower ends of utilization.\n",
        "\n",
        "The absence of extreme outliers means fewer cases for immediate fraud or credit distress intervention, letting Paisabazaar focus resources on marginal risk improvements or personalized recommendations, ultimately supporting better portfolio health and user engagement."
      ],
      "metadata": {
        "id": "zfJ8IqMcYoAp"
      }
    },
    {
      "cell_type": "markdown",
      "source": [
        "#### Chart - 4"
      ],
      "metadata": {
        "id": "4Of9eVA-YrdM"
      }
    },
    {
      "cell_type": "markdown",
      "source": [
        "What is the distribution of the Delay Payment Ratio among customers?"
      ],
      "metadata": {
        "id": "qhPcbfVo1GbQ"
      }
    },
    {
      "cell_type": "code",
      "source": [
        "# Chart - 4 visualization code\n",
        "plt.figure(figsize=(10,6))\n",
        "sns.histplot(df['Delay_Ratio'], bins=25)\n",
        "plt.title('Distribution of Delay Ratio')\n",
        "plt.xlabel('Delay Ratio')\n",
        "plt.ylabel('Frequency')\n",
        "plt.show()"
      ],
      "metadata": {
        "id": "irlUoxc8YrdO"
      },
      "execution_count": null,
      "outputs": []
    },
    {
      "cell_type": "markdown",
      "source": [
        "##### 1. Why did you pick the specific chart?"
      ],
      "metadata": {
        "id": "iky9q4vBYrdO"
      }
    },
    {
      "cell_type": "markdown",
      "source": [
        "The histogram of delay ratios helps analyze the frequency and extent of payment delays—a critical indicator of credit risk.\n",
        "The delay ratio is a key performance metric for credit products, representing the ratio between delayed payments and scheduled payments."
      ],
      "metadata": {
        "id": "aJRCwT6DYrdO"
      }
    },
    {
      "cell_type": "markdown",
      "source": [
        "##### 2. What is/are the insight(s) found from the chart?"
      ],
      "metadata": {
        "id": "F6T5p64dYrdO"
      }
    },
    {
      "cell_type": "markdown",
      "source": [
        "\n",
        "Most customers maintain low delay ratios, indicative of reliable payment behavior. However, a notable portion exhibits substantial delays, flagging potential defaulters.\n",
        "\n",
        "The distribution is extremely right-skewed, with a massive concentration at or near zero, and a very fast drop-off as the delay ratio increases.\n",
        "\n",
        "The overwhelming majority of customers have a delay ratio close to zero, indicating most payments are on time or minimal delays occur.\n",
        "\n",
        "A very small proportion of the population has delay ratios above 1, and extremely few cases stretch into higher values (out to around 12), implying a handful of potentially high-risk borrowers but not enough to substantially skew the overall portfolio."
      ],
      "metadata": {
        "id": "Xx8WAJvtYrdO"
      }
    },
    {
      "cell_type": "markdown",
      "source": [
        "##### 3. Will the gained insights help creating a positive business impact?\n",
        "Are there any insights that lead to negative growth? Justify with specific reason."
      ],
      "metadata": {
        "id": "y-Ehk30pYrdP"
      }
    },
    {
      "cell_type": "markdown",
      "source": [
        "Early identification of high-delay customers supports tailored interventions (e.g., payment reminders, restructuring), reducing loan defaults and losses—a clear revenue safeguard.\n",
        "\n",
        "The high incidence of on-time payments signals good repayment discipline, which can be leveraged in risk modeling, underwriting, and product pricing.\n",
        "\n",
        "Since most customers pay on time, Paisabazaar could consider incentivizing prompt payment with loyalty rewards, discount or beneficial product features\n",
        "for such loyal customers.\n",
        "\n",
        "The small minority with very high delay ratios warrants targeted remediation—such as customized collection efforts or stricter credit terms—helping further reduce losses and enhance profitability."
      ],
      "metadata": {
        "id": "jLNxxz7MYrdP"
      }
    },
    {
      "cell_type": "markdown",
      "source": [
        "#### Chart - 5"
      ],
      "metadata": {
        "id": "lBhYsUdzxo-3"
      }
    },
    {
      "cell_type": "markdown",
      "source": [
        "What is the distribution of Risk Score?"
      ],
      "metadata": {
        "id": "dJ-sQH8Cxo-3"
      }
    },
    {
      "cell_type": "code",
      "source": [
        "# Chart - 5 visualization code\n",
        "\n",
        "# Histogram for Risk Score\n",
        "\n",
        "\n",
        "plt.figure(figsize=(8,5))\n",
        "sns.histplot(df['Risk_Score'], bins=30, kde=True)\n",
        "plt.title('Distribution of Risk Score')\n",
        "plt.xlabel('Risk Score')\n",
        "plt.ylabel('Frequency')\n",
        "plt.show()"
      ],
      "metadata": {
        "id": "AJ1cGGz0xo-4"
      },
      "execution_count": null,
      "outputs": []
    },
    {
      "cell_type": "markdown",
      "source": [
        "##### 1. Why did you pick the specific chart?"
      ],
      "metadata": {
        "id": "TaOIWYkNxo-4"
      }
    },
    {
      "cell_type": "markdown",
      "source": [
        "The histogram of risk score helps analyze the frequency and extent of credit risk.It indicates whether it is favorable to give that person loan in future or not."
      ],
      "metadata": {
        "id": "9tv-xMqYxo-4"
      }
    },
    {
      "cell_type": "markdown",
      "source": [
        "##### 2. What is/are the insight(s) found from the chart?"
      ],
      "metadata": {
        "id": "6eagBzAzxo-5"
      }
    },
    {
      "cell_type": "markdown",
      "source": [
        "Most customers have low to moderate risk scores: The bulk of the population falls in the 0.20–0.25 range, indicating a generally healthy portfolio with lower predicted credit risk.\n",
        "\n",
        "Tail risk exists: There are some customers with risk scores exceeding 0.30, and a very small number above 0.40. These represent higher credit risk segments and may merit special attention for additional risk controls or monitoring.\n",
        "\n",
        "Skewness suggests predictive opportunity: The shape of the distribution allows for effective segmentation. Stratifying customers into low, moderate, and high risk score bands can drive targeted policy, product design, and interventions.\n"
      ],
      "metadata": {
        "id": "w7AJjRWLxo-5"
      }
    },
    {
      "cell_type": "markdown",
      "source": [
        "##### 3. Will the gained insights help creating a positive business impact?\n",
        "Are there any insights that lead to negative growth? Justify with specific reason."
      ],
      "metadata": {
        "id": "imNNAFOXxo-5"
      }
    },
    {
      "cell_type": "markdown",
      "source": [
        "Yes, it has positivie impact as we can use low-risk segment for prioritized credit offers and streamlined approval and monitor medium to high-risk segments with stricter loan terms, higher documentation, or enhanced fraud checks.\n",
        "\n",
        "The distribution serves as a foundation for automated decision rules and risk-adjusted recommendations in the lending workflow."
      ],
      "metadata": {
        "id": "sHttKEyJxo-5"
      }
    },
    {
      "cell_type": "markdown",
      "source": [
        "#### Chart - 6"
      ],
      "metadata": {
        "id": "bamQiAODYuh1"
      }
    },
    {
      "cell_type": "markdown",
      "source": [
        "Distribution of cases having chances of risk ?"
      ],
      "metadata": {
        "id": "b2e86yu9emzK"
      }
    },
    {
      "cell_type": "code",
      "source": [
        "# Chart - 6 visualization code\n",
        "plt.figure(figsize=(8,5))\n",
        "sns.countplot(x='Risk_Flag', data=df, palette='Blues',legend=False)\n",
        "plt.title('Count of Risky vs Non-Risky Cases')\n",
        "plt.xlabel('Risk Flag (0=No Risk, 1=Risk)')\n",
        "plt.ylabel('Count')\n",
        "plt.show()"
      ],
      "metadata": {
        "id": "TIJwrbroYuh3"
      },
      "execution_count": null,
      "outputs": []
    },
    {
      "cell_type": "markdown",
      "source": [
        "##### 1. Why did you pick the specific chart?"
      ],
      "metadata": {
        "id": "QHF8YVU7Yuh3"
      }
    },
    {
      "cell_type": "markdown",
      "source": [
        "\n",
        "Countplots succinctly quantify the proportion of case having chances of risk vs. non-risk , measuring fraud prevalence, essential for risk modeling and mitigation.\n"
      ],
      "metadata": {
        "id": "dcxuIMRPYuh3"
      }
    },
    {
      "cell_type": "markdown",
      "source": [
        "##### 2. What is/are the insight(s) found from the chart?"
      ],
      "metadata": {
        "id": "GwzvFGzlYuh3"
      }
    },
    {
      "cell_type": "markdown",
      "source": [
        "Risk cases constitute a smaller, yet significant minority revealing the scope for robust risk detection mechanisms.\n",
        "\n",
        "The count of non-risky cases (Risk Flag = 0) is much higher than risky cases (Risk Flag = 1), with non-risky cases at around 71,000 and risky ones at approximately 29,000 out of the total sample.\n",
        "\n",
        "Roughly 29% of cases are flagged as risky, which is quite substantial, indicating the presence of significant vulnerabilities in loan applications or customer onboarding processes."
      ],
      "metadata": {
        "id": "uyqkiB8YYuh3"
      }
    },
    {
      "cell_type": "markdown",
      "source": [
        "##### 3. Will the gained insights help creating a positive business impact?\n",
        "Are there any insights that lead to negative growth? Justify with specific reason."
      ],
      "metadata": {
        "id": "qYpmQ266Yuh3"
      }
    },
    {
      "cell_type": "markdown",
      "source": [
        "The insights provide :-\n",
        "\n",
        "Improved Risk Assessment: The ability to predict credit scores and flag risky customers helps Paisabazaar optimize loan approvals, reduce defaults, and safeguard the loan portfolio.\n",
        "\n",
        "Personalized Customer Engagement: Customer segmentation based on financial behavior and risk allows tailored product offers, improving customer satisfaction and product conversion.\n",
        "\n",
        "But some insights point towards potential negative growth risks, such as the sizable proportion of customers flagged as high risk. If Paisabazaar extends credit indiscriminately to these customers without stringent controls, it could lead to increased defaults and financial losses. Furthermore, any modeling biases due to class imbalances could result in undetected risky customers."
      ],
      "metadata": {
        "id": "_WtzZ_hCYuh4"
      }
    },
    {
      "cell_type": "markdown",
      "source": [
        "# **Bivariate Analysis**\n",
        "\n",
        "To compare two or more variables and find pattern between them.\n",
        "* Numerical vs. Numerical:\n",
        "Scatter Plot\n",
        "* Numerical vs. Date:\n",
        "Line Chart\n",
        "* Categorical vs. Numerical:\n",
        "Bar Chart,Violin Plot,\n",
        "Box Plot\n",
        "* Categoriacal vs. Categorical:\n",
        "CountPlot"
      ],
      "metadata": {
        "id": "7WnZi7QB48uQ"
      }
    },
    {
      "cell_type": "markdown",
      "source": [
        "#### Chart - 7"
      ],
      "metadata": {
        "id": "OH-pJp9IphqM"
      }
    },
    {
      "cell_type": "markdown",
      "source": [
        "Noticeable trends in credit scores based on the month of the year\n",
        "\n"
      ],
      "metadata": {
        "id": "uVU6jzxX7BK7"
      }
    },
    {
      "cell_type": "code",
      "source": [
        "# Chart-7 visualization code\n",
        "\n",
        "#converting credit score category to numeric\n",
        "df['CreditScoreNumeric'] = df['Credit_Score'].map({'Poor':1, 'Standard':2, 'Good':3}).astype(int)\n",
        "#getting average score\n",
        "monthly_avg_score = df.groupby('Month')['CreditScoreNumeric'].mean().reset_index()\n",
        "\n",
        "plt.figure(figsize=(10,6))\n",
        "sns.lineplot(data=monthly_avg_score, x='Month', y='CreditScoreNumeric', marker='o')\n",
        "plt.title('Average Credit Score by Month')\n",
        "plt.xlabel('Month')\n",
        "plt.ylabel('Average Credit Score (Numeric)')\n",
        "plt.xticks(range(1, 13))\n",
        "plt.show()"
      ],
      "metadata": {
        "id": "su7EZsXG7U_-"
      },
      "execution_count": null,
      "outputs": []
    },
    {
      "cell_type": "markdown",
      "source": [
        "1. Why did you pick the specific chart?"
      ],
      "metadata": {
        "id": "2Ljf5uuF9zV4"
      }
    },
    {
      "cell_type": "markdown",
      "source": [
        "I have chosen line chart beacause it provides a temporal perspective, visualizing changes in the average credit score from January to August. Time-based trends are critical for observing seasonal, policy, or business-driven impacts in the dataset, helping reveal improvement or deterioration over months."
      ],
      "metadata": {
        "id": "plG_NXGb90pm"
      }
    },
    {
      "cell_type": "markdown",
      "source": [
        "##### 2. What is/are the insight(s) found from the chart?\n",
        "\n"
      ],
      "metadata": {
        "id": "rFwQfM4Q-ajN"
      }
    },
    {
      "cell_type": "markdown",
      "source": [
        "We can observe an upward trend in average credit scores from January to August, rising from around 1.871 to 1.905.\n",
        "\n",
        "Occasional small dips (notably in March and May) are visible, but the general pattern is consistent improvement throughout the period.\n",
        "\n",
        "Such a trend indicates business success in customer acquisition, credit improvement efforts, or external economic factors positively affecting customer profiles.\n",
        "\n"
      ],
      "metadata": {
        "id": "pnvG4dSq-gjU"
      }
    },
    {
      "cell_type": "markdown",
      "source": [
        "##### 3. Will the gained insights help creating a positive business impact?\n",
        "Are there any insights that lead to negative growth? Justify with specific reason."
      ],
      "metadata": {
        "id": "Oh0Ypr___fLR"
      }
    },
    {
      "cell_type": "markdown",
      "source": [
        "By monitoring upward credit score trends we can validate the effectiveness of credit-building programs, targeted marketing, or risk-reduction strategies.\n",
        "\n",
        "Paisabazaar can use this information to communicate improvements in customer financial health to partners, investors, and customers, boosting trust and stimulating business growth."
      ],
      "metadata": {
        "id": "h6IIUGvI_kSY"
      }
    },
    {
      "cell_type": "markdown",
      "source": [
        "#### Chart - 8"
      ],
      "metadata": {
        "id": "_AbWDtRQ_-pf"
      }
    },
    {
      "cell_type": "markdown",
      "source": [
        "How seasonal shifts in the distribution of scores is present?"
      ],
      "metadata": {
        "id": "k4GrIBnyAdmg"
      }
    },
    {
      "cell_type": "code",
      "source": [
        "# Chart - 8 visualization code\n",
        "monthly_credit_counts = pd.crosstab(df['Month'], df['Credit_Score'])\n",
        "\n",
        "# Plot stacked bar chart\n",
        "monthly_credit_counts.plot(kind='bar', stacked=True, figsize=(12,7), colormap='Set2')\n",
        "plt.title('Monthly Distribution of Credit Score Categories')\n",
        "plt.xlabel('Month')\n",
        "plt.ylabel('Number of Customers')\n",
        "plt.xticks(rotation=0)\n",
        "plt.legend(title='Credit Score')\n",
        "plt.show()\n"
      ],
      "metadata": {
        "id": "kuRf4wtuphqN"
      },
      "execution_count": null,
      "outputs": []
    },
    {
      "cell_type": "markdown",
      "source": [
        "##### 1. Why did you pick the specific chart?"
      ],
      "metadata": {
        "id": "bbFf2-_FphqN"
      }
    },
    {
      "cell_type": "markdown",
      "source": [
        "This graph helps to show how the composition of credit score categories varies monthly, revealing if any category has seasonal peaks.\n"
      ],
      "metadata": {
        "id": "loh7H2nzphqN"
      }
    },
    {
      "cell_type": "markdown",
      "source": [
        "##### 2. What is/are the insight(s) found from the chart?"
      ],
      "metadata": {
        "id": "_ouA3fa0phqN"
      }
    },
    {
      "cell_type": "markdown",
      "source": [
        "The Standard credit score category consistently comprises the largest segment every month, followed by Poor and then Good.\n",
        "\n",
        "There is a slight increase in the count of \"Good\" and \"Poor\" scores from month 4 to month 8, indicating possible improvement or deterioration among specific customer segments during these periods.\n",
        "\n",
        "The overall distribution is stable across months, suggesting that while absolute numbers change, the relative composition of scores remains steady—no sudden shifts in risk segmentation are visible"
      ],
      "metadata": {
        "id": "VECbqPI7phqN"
      }
    },
    {
      "cell_type": "markdown",
      "source": [
        "##### 3. Will the gained insights help creating a positive business impact?\n",
        "Are there any insights that lead to negative growth? Justify with specific reason."
      ],
      "metadata": {
        "id": "Seke61FWphqN"
      }
    },
    {
      "cell_type": "markdown",
      "source": [
        "The monthly stability (or slow change) in credit score composition allows Paisabazaar to monitor trends and intervene early if shifts in risk appear.\n",
        "\n",
        "Business teams can leverage periods of rising \"Good\" scores for targeted promotions, while periods of increased \"Poor\" scores might prompt tighter risk management or enhanced customer support."
      ],
      "metadata": {
        "id": "DW4_bGpfphqN"
      }
    },
    {
      "cell_type": "markdown",
      "source": [
        "#### Chart - 9"
      ],
      "metadata": {
        "id": "PIIx-8_IphqN"
      }
    },
    {
      "cell_type": "markdown",
      "source": [
        "Does higher income correlate with better credit scores?"
      ],
      "metadata": {
        "id": "szeEThfd91tf"
      }
    },
    {
      "cell_type": "code",
      "source": [
        "# Chart - 9 visualization code\n",
        "plt.figure(figsize=(10,6))\n",
        "sns.boxplot(x='Credit_Score', y='Annual_Income', data=df, order=['Poor', 'Standard', 'Good'], palette='Blues')\n",
        "plt.title('Annual Income by Credit Score Category')\n",
        "plt.xlabel('Credit Score Category')\n",
        "plt.ylabel('Annual Income')\n",
        "plt.show()\n"
      ],
      "metadata": {
        "id": "lqAIGUfyphqO"
      },
      "execution_count": null,
      "outputs": []
    },
    {
      "cell_type": "markdown",
      "source": [
        "##### 1. Why did you pick the specific chart?"
      ],
      "metadata": {
        "id": "t27r6nlMphqO"
      }
    },
    {
      "cell_type": "markdown",
      "source": [
        "I have choosen boxplot as it compares annual income across different credit score categories (Poor, Standard, Good), which is highly relevant for understanding financial stratification in the dataset. It enables quick assessment of whether income correlates with creditworthiness and helps in segmenting potential customers for targeted products."
      ],
      "metadata": {
        "id": "iv6ro40sphqO"
      }
    },
    {
      "cell_type": "markdown",
      "source": [
        "##### 2. What is/are the insight(s) found from the chart?"
      ],
      "metadata": {
        "id": "r2jJGEOYphqO"
      }
    },
    {
      "cell_type": "markdown",
      "source": [
        "Median and interquartile range for annual income increase as credit score improves: individuals with “Good” scores have higher median incomes than those classified as “Poor” or “Standard”.\n",
        "\n",
        "All three categories show a wide spread, but the “Good” credit score group also has the most high-income outliers, suggesting a positive association between higher earning power and better creditworthiness.\n",
        "\n",
        "Outliers in the “Poor” category reveal some high earners with unexpectedly low credit scores, which may indicate unusual financial behavior, recent negative events."
      ],
      "metadata": {
        "id": "Po6ZPi4hphqO"
      }
    },
    {
      "cell_type": "markdown",
      "source": [
        "##### 3. Will the gained insights help creating a positive business impact?\n",
        "Are there any insights that lead to negative growth? Justify with specific reason."
      ],
      "metadata": {
        "id": "b0JNsNcRphqO"
      }
    },
    {
      "cell_type": "markdown",
      "source": [
        "These findings can be used to enable Paisabazaar to prioritize high-income, good credit score individuals for premium financial offerings and cross-sell opportunities, ultimately driving profitability.\n",
        "\n",
        "The presence of high-income outliers in “Poor” and “Standard” categories suggests hidden opportunities for credit rehabilitation products or services, benefiting both the company and customers.\n",
        "\n",
        "This stratification aids in refining risk models, customizing credit limits, and developing more personalized customer outreach, supporting smarter portfolio management and more effective marketing."
      ],
      "metadata": {
        "id": "xvSq8iUTphqO"
      }
    },
    {
      "cell_type": "markdown",
      "source": [
        "#### Chart - 10"
      ],
      "metadata": {
        "id": "BZR9WyysphqO"
      }
    },
    {
      "cell_type": "markdown",
      "source": [
        "Does annual income vary with credit score ranges?"
      ],
      "metadata": {
        "id": "CFGGJgPx-S8a"
      }
    },
    {
      "cell_type": "code",
      "source": [
        "# Chart - 10 visualization code\n",
        "\n",
        "plt.figure(figsize=(8,5))\n",
        "sns.violinplot(x='Credit_Score', y='Annual_Income', data=df, inner='quartile')\n",
        "plt.title(\"Annual Income Distribution Across Credit Score Ranges\")\n",
        "plt.xlabel(\"Credit Score\")\n",
        "plt.ylabel(\"Annual Income\")\n",
        "plt.show()"
      ],
      "metadata": {
        "id": "TdPTWpAVphqO"
      },
      "execution_count": null,
      "outputs": []
    },
    {
      "cell_type": "markdown",
      "source": [
        "##### 1. Why did you pick the specific chart?"
      ],
      "metadata": {
        "id": "jj7wYXLtphqO"
      }
    },
    {
      "cell_type": "markdown",
      "source": [
        "This violin plot clearly visualizes the entire distribution (not just the mean, median, or quartiles) of annual income for each credit score category (\"Good,\" \"Poor,\" and \"Standard\"). It is highly insightful for understanding how income varies within and between different risk groups in the dataset."
      ],
      "metadata": {
        "id": "Ob8u6rCTphqO"
      }
    },
    {
      "cell_type": "markdown",
      "source": [
        "##### 2. What is/are the insight(s) found from the chart?"
      ],
      "metadata": {
        "id": "eZrbJ2SmphqO"
      }
    },
    {
      "cell_type": "markdown",
      "source": [
        "The “Good” credit score group has the highest concentration of higher annual incomes, with a broader spread and more upper-tail values compared to “Poor” and “Standard” groups.\n",
        "\n",
        "The “Poor” group’s income distribution is concentrated at lower values, though a small number of higher incomes are present, possibly indicating people with good financial capacity but problematic repayment histories or other risk-inducing factors.\n",
        "\n",
        "The “Standard” group sits between the two, with moderate spread and density, reinforcing the idea that income positively correlates with better credit quality in this dataset."
      ],
      "metadata": {
        "id": "mZtgC_hjphqO"
      }
    },
    {
      "cell_type": "markdown",
      "source": [
        "##### 3. Will the gained insights help creating a positive business impact?\n",
        "Are there any insights that lead to negative growth? Justify with specific reason."
      ],
      "metadata": {
        "id": "rFu4xreNphqO"
      }
    },
    {
      "cell_type": "markdown",
      "source": [
        "Higher-income customers in lower credit bands may represent opportunities for financial inclusion, targeted risk mitigation, or premium up-selling (with education or counseling).\n",
        "\n",
        "The strong association between higher income and better credit scores supports validating or refining credit modeling, product design, and customer targeting strategies for conversion and retention."
      ],
      "metadata": {
        "id": "ey_0qi68phqO"
      }
    },
    {
      "cell_type": "markdown",
      "source": [
        "#### Chart - 11"
      ],
      "metadata": {
        "id": "YJ55k-q6phqO"
      }
    },
    {
      "cell_type": "markdown",
      "source": [
        "Is there a relationship between the number of loans taken and risk factor?"
      ],
      "metadata": {
        "id": "1jpZbm37-eOc"
      }
    },
    {
      "cell_type": "code",
      "source": [
        "# Chart - 11 visualization code\n",
        "plt.figure(figsize=(10,6))\n",
        "sns.countplot(x='Num_of_Loan', hue='Risk_Flag', data=df, palette='Blues')\n",
        "plt.title('Number of Loans by Risk Status')\n",
        "plt.xlabel('Number of Loans')\n",
        "plt.ylabel('Count')\n",
        "plt.legend(title='Risk Flag')\n",
        "plt.show()\n"
      ],
      "metadata": {
        "id": "B2aS4O1ophqO"
      },
      "execution_count": null,
      "outputs": []
    },
    {
      "cell_type": "markdown",
      "source": [
        "##### 1. Why did you pick the specific chart?"
      ],
      "metadata": {
        "id": "gCFgpxoyphqP"
      }
    },
    {
      "cell_type": "markdown",
      "source": [
        "This grouped bar chart visualizes the relationship between the number of loans taken and risk factor corresponding to them , enabling clear assessment if loan frequency correlates with higher risk in the data.\n",
        "\n"
      ],
      "metadata": {
        "id": "TVxDimi2phqP"
      }
    },
    {
      "cell_type": "markdown",
      "source": [
        "##### 2. What is/are the insight(s) found from the chart?"
      ],
      "metadata": {
        "id": "OVtJsKN_phqQ"
      }
    },
    {
      "cell_type": "markdown",
      "source": [
        "For loan in range 0-4 , non-risky cases (light blue) clearly predominate, but as the number of loans increases (especially at 5 and above), risky cases (blue ) start to match or even exceed non-risky ones.\n",
        "\n",
        "Customers with more than 5 loans show a disproportionately higher chance of fraud, suggesting a positive association between loan frequency and risk.\n",
        "\n",
        "We can say that as the number of loans increases, the risk associated with them also appear to increase."
      ],
      "metadata": {
        "id": "ngGi97qjphqQ"
      }
    },
    {
      "cell_type": "markdown",
      "source": [
        "##### 3. Will the gained insights help creating a positive business impact?\n",
        "Are there any insights that lead to negative growth? Justify with specific reason."
      ],
      "metadata": {
        "id": "lssrdh5qphqQ"
      }
    },
    {
      "cell_type": "markdown",
      "source": [
        "We can flag high-loan-count customers for additional scrutiny or dynamic risk scoring, possibly tightening credit policies for such segments.\n",
        "\n",
        "Can be used to build business rules for proactive fraud prevention, optimize resource allocation for manual review, and refine customer eligibility checks.\n",
        "\n",
        "This insight empowers the business to implement early warning systems for repeat borrowers, improving portfolio health while reducing bad debt and fraudulent loss exposure."
      ],
      "metadata": {
        "id": "tBpY5ekJphqQ"
      }
    },
    {
      "cell_type": "markdown",
      "source": [
        "#### Chart - 12"
      ],
      "metadata": {
        "id": "n3dbpmDWp1ck"
      }
    },
    {
      "cell_type": "markdown",
      "source": [
        "Is there a negative correlation between the number of delayed payments and credit scores?"
      ],
      "metadata": {
        "id": "Es2pOBhPmwE4"
      }
    },
    {
      "cell_type": "code",
      "source": [
        "# Chart - 12 visualization code\n",
        "\n",
        "sns.boxplot(x='Credit_Score', y='Num_of_Delayed_Payment', data=df)\n"
      ],
      "metadata": {
        "id": "bwevp1tKp1ck"
      },
      "execution_count": null,
      "outputs": []
    },
    {
      "cell_type": "markdown",
      "source": [
        "##### 1. Why did you pick the specific chart?"
      ],
      "metadata": {
        "id": "ylSl6qgtp1ck"
      }
    },
    {
      "cell_type": "markdown",
      "source": [
        " Box plot is highly relevant for analyzing how payment behavior aligns with assigned creditworthiness in the Paisabazaar dataset."
      ],
      "metadata": {
        "id": "m2xqNkiQp1ck"
      }
    },
    {
      "cell_type": "markdown",
      "source": [
        "##### 2. What is/are the insight(s) found from the chart?"
      ],
      "metadata": {
        "id": "ZWILFDl5p1ck"
      }
    },
    {
      "cell_type": "markdown",
      "source": [
        "Customers with \"Poor\" or \"Standard\" credit scores have higher median and interquartile ranges for delayed payments compared to those with \"Good\" scores.\n",
        "\n",
        "The \"Good\" score group has both lower medians and a tighter spread, with only a few high outliers, indicating more disciplined repayment behavior.\n",
        "\n",
        "The pattern matches expected business logic: more delayed payments associate with poorer credit scores, validating credit risk models and scoring principles."
      ],
      "metadata": {
        "id": "x-lUsV2mp1ck"
      }
    },
    {
      "cell_type": "markdown",
      "source": [
        "##### 3. Will the gained insights help creating a positive business impact?\n",
        "Are there any insights that lead to negative growth? Justify with specific reason."
      ],
      "metadata": {
        "id": "M7G43BXep1ck"
      }
    },
    {
      "cell_type": "markdown",
      "source": [
        "Can be used to refine recovery and NPA (non-performing asset) strategies, support loan approval automation, and improve prediction accuracy for future creditworthiness.\n",
        "\n",
        "These results support more personalized customer outreach (e.g., targeted education for Standard/Poor segments), risk-based pricing."
      ],
      "metadata": {
        "id": "5wwDJXsLp1cl"
      }
    },
    {
      "cell_type": "markdown",
      "source": [
        "#### Chart - 13"
      ],
      "metadata": {
        "id": "Ag9LCva-p1cl"
      }
    },
    {
      "cell_type": "markdown",
      "source": [
        "How credit score is ditributed among different ages ?"
      ],
      "metadata": {
        "id": "wIxCJqBsDJvE"
      }
    },
    {
      "cell_type": "code",
      "source": [
        "# Chart - 13 visualization code\n",
        "\n",
        "# Create a cross-tab for counts\n",
        "\n",
        "cross_tab = pd.crosstab(df['Age_Group'], df['Credit_Score'])\n",
        "\n",
        "# Plot stacked bar chart\n",
        "cross_tab.plot(kind='bar', stacked=True, figsize=(8,5))\n",
        "\n",
        "\n",
        "plt.title(\"Distribution of Credit Scores Across Age Groups\")\n",
        "plt.xlabel(\"Age Group\")\n",
        "plt.ylabel(\"Count\")\n",
        "plt.legend(title=\"Credit Score\")\n",
        "plt.show()"
      ],
      "metadata": {
        "id": "EUfxeq9-p1cl"
      },
      "execution_count": null,
      "outputs": []
    },
    {
      "cell_type": "markdown",
      "source": [
        "##### 1. Why did you pick the specific chart?"
      ],
      "metadata": {
        "id": "E6MkPsBcp1cl"
      }
    },
    {
      "cell_type": "markdown",
      "source": [
        "This stacked bar chart clearly visualizes the distribution of credit score categories (Good, Poor, Standard) within different age groups, making it ideal for understanding how age relates to creditworthiness and risk segmentation in the Paisabazaar dataset."
      ],
      "metadata": {
        "id": "V22bRsFWp1cl"
      }
    },
    {
      "cell_type": "markdown",
      "source": [
        "##### 2. What is/are the insight(s) found from the chart?"
      ],
      "metadata": {
        "id": "2cELzS2fp1cl"
      }
    },
    {
      "cell_type": "markdown",
      "source": [
        "The middle age groups (26–35 and 36–45) have the highest overall counts and the largest proportion of Standard scores, followed by Poor and then Good.\n",
        "\n",
        "The youngest (18–25) and oldest (46–60) age groups have lower counts overall, and Standard is again the dominant score, though the proportion of Good scores appears slightly higher in the oldest group.\n",
        "\n",
        "Across all age groups, Standard scores consistently dominate, meaning most customers fall into this moderate risk segment regardless of age."
      ],
      "metadata": {
        "id": "ozQPc2_Ip1cl"
      }
    },
    {
      "cell_type": "markdown",
      "source": [
        "##### 3. Will the gained insights help creating a positive business impact?\n",
        "Are there any insights that lead to negative growth? Justify with specific reason."
      ],
      "metadata": {
        "id": "3MPXvC8up1cl"
      }
    },
    {
      "cell_type": "markdown",
      "source": [
        "Paisabazaar tailor products and interventions by age and risk segment—focusing campaigns and risk management on the high-volume, Standard score groups in middle ages while customizing offerings for older, better-scoring customers.\n",
        "\n",
        "Cross-age targeting can help for credit improvement programs, financial education, and retention strategies.\n"
      ],
      "metadata": {
        "id": "GL8l1tdLp1cl"
      }
    },
    {
      "cell_type": "markdown",
      "source": [
        "# **Multivariate Analysis**\n",
        "Analyzes the relationships among more than two variables.\n",
        "\n",
        "Graphs:\n",
        "\n",
        "* Heatmap: Shows correlations between variables.(range -1 to 1)\n",
        "* Pair Plot: Visualizes relationships across multiple numerical variables."
      ],
      "metadata": {
        "id": "vJWK_mbeArVF"
      }
    },
    {
      "cell_type": "markdown",
      "source": [
        "#### Chart - 14"
      ],
      "metadata": {
        "id": "p9wV9fUPELn0"
      }
    },
    {
      "cell_type": "markdown",
      "source": [
        "how credit score is ditributed among different ages"
      ],
      "metadata": {
        "id": "CdqRtwL8ELn-"
      }
    },
    {
      "cell_type": "code",
      "source": [
        "#checking range of utilization ratio\n",
        "df['Credit_Utilization_Ratio'].unique()"
      ],
      "metadata": {
        "id": "nDKv3QsVGfri"
      },
      "execution_count": null,
      "outputs": []
    },
    {
      "cell_type": "code",
      "source": [
        "# Chart - 14 visualization code\n",
        "\n",
        "df_filtered = df[df['Credit_Utilization_Ratio'] < 50] #filtering to get precise result\n",
        "\n",
        "plt.figure(figsize=(8,5))\n",
        "sns.stripplot(\n",
        "    data=df_filtered,\n",
        "    x='Num_Credit_Card',\n",
        "    y='CreditScoreNumeric',\n",
        "    hue='Credit_Utilization_Ratio',\n",
        "    palette='ocean',\n",
        "    size=7,\n",
        "    jitter=True  # Enabled jitter to spread points horizontally\n",
        ")\n",
        "plt.title(\"Credit Score vs Number of Credit Cards \")\n",
        "plt.xlabel(\"Number of Credit Cards\")\n",
        "plt.ylabel(\"Credit Score (Numeric)\")\n",
        "plt.legend(title='Credit Utilization (%)', bbox_to_anchor=(1.05,1), loc='upper left')\n",
        "plt.show()"
      ],
      "metadata": {
        "id": "mpQ5W2Q_ELn-"
      },
      "execution_count": null,
      "outputs": []
    },
    {
      "cell_type": "markdown",
      "source": [
        "##### 1. Why did you pick the specific chart?"
      ],
      "metadata": {
        "id": "xSq0b_eyELn-"
      }
    },
    {
      "cell_type": "markdown",
      "source": [
        "This scatterplot is ideal for analyzing the relationship between the number of credit cards and a customer's credit score, with color coding for credit utilization adding a valuable third dimension. This multi-feature view helps Paisabazaar identify complex associations important for credit risk modeling and product targeting."
      ],
      "metadata": {
        "id": "bPJKpKGDELn-"
      }
    },
    {
      "cell_type": "markdown",
      "source": [
        "##### 2. What is/are the insight(s) found from the chart?"
      ],
      "metadata": {
        "id": "hunpROiCELn-"
      }
    },
    {
      "cell_type": "markdown",
      "source": [
        "The chart shows distinct clusters of credit scores (appearing as three major discrete values), spread across the range of credit card counts (0–11).\n",
        "\n",
        "Color and size encoding by credit utilization ratio (from 20% to 45%) adds clarity—there is no prominent concentration of higher/lower utilization at any specific score or card count.\n",
        "\n",
        "The distribution appears uniform, with no obvious trend indicating that more credit cards directly improve or worsen the credit score for customers within the utilization criteria shown."
      ],
      "metadata": {
        "id": "RYo1tgWbELn-"
      }
    },
    {
      "cell_type": "markdown",
      "source": [
        "##### 3. Will the gained insights help creating a positive business impact?\n",
        "Are there any insights that lead to negative growth? Justify with specific reason."
      ],
      "metadata": {
        "id": "Tw-8W56tELn_"
      }
    },
    {
      "cell_type": "markdown",
      "source": [
        "This visualizaation confirms that, for customers with utilization under 50%, credit score does not vary strongly with the number of credit cards. This means card acquisition isn’t inherently risky for the score segment visualized.\n",
        "\n",
        "Credit scoring and risk models should focus on utilization and other behavioral factors over simple card counts, helping refine lending and marketing strategies.\n"
      ],
      "metadata": {
        "id": "vGILag09ELn_"
      }
    },
    {
      "cell_type": "markdown",
      "source": [
        "#### Chart - 15 - Correlation Heatmap"
      ],
      "metadata": {
        "id": "NC_X3p0fY2L0"
      }
    },
    {
      "cell_type": "code",
      "source": [
        "print(numerical_cols.columns)"
      ],
      "metadata": {
        "id": "mbBnf6r4Jxas"
      },
      "execution_count": null,
      "outputs": []
    },
    {
      "cell_type": "code",
      "source": [
        "# Correlation Heatmap visualization code\n",
        "plt.figure(figsize=(12,10))\n",
        "corr = df[['Annual_Income', 'Monthly_Inhand_Salary','Age', 'Credit_Utilization_Ratio','Delay_Ratio', 'Outstanding_Debt','Num_of_Loan', 'Num_Credit_Inquiries','Risk_Score', 'Risk_Flag']].corr()\n",
        "sns.heatmap(corr, annot=True, fmt='.2f', cmap='Blues', center=0)\n",
        "plt.title('Correlation Heatmap of Numerical Features ')\n",
        "plt.show()\n"
      ],
      "metadata": {
        "id": "xyC9zolEZNRQ"
      },
      "execution_count": null,
      "outputs": []
    },
    {
      "cell_type": "markdown",
      "source": [
        "##### 1. Why did you pick the specific chart?"
      ],
      "metadata": {
        "id": "UV0SzAkaZNRQ"
      }
    },
    {
      "cell_type": "markdown",
      "source": [
        "A correlation heatmap enables understanding the pairwise linear relationships among multiple numerical features, including fraud and risk indicators. It helps identify which features move together and which are independent."
      ],
      "metadata": {
        "id": "DVPuT8LYZNRQ"
      }
    },
    {
      "cell_type": "markdown",
      "source": [
        "##### 2. What is/are the insight(s) found from the chart?"
      ],
      "metadata": {
        "id": "YPEH6qLeZNRQ"
      }
    },
    {
      "cell_type": "markdown",
      "source": [
        "Risk Flag is most positively correlated with Outstanding Debt (0.36), Number of Credit Inquiries (0.39), Number of Loans (0.32), and Risk Score (0.30). Delay Ratio also correlates moderately (0.14) with fraud.\n",
        "\n",
        "Risk Score is very strongly correlated with Outstanding Debt (0.73), showing that debt levels are a core risk indicator, and also correlates well with Number of Loan (0.59),Num_credit_inquiries (0.50) and Delay Ratio (0.35).\n",
        "\n",
        "Annual Income and Monthly Inhand Salary are very closely correlated (1.00), both negatively associated with risk_flag and risk_score (−0.17, −0.16 and −0.49, −0.49 respectively), confirming that lower income means higher risk and higher fraud probability."
      ],
      "metadata": {
        "id": "bfSqtnDqZNRR"
      }
    },
    {
      "cell_type": "markdown",
      "source": [
        "#### Chart - 16 - Pair Plot"
      ],
      "metadata": {
        "id": "q29F0dvdveiT"
      }
    },
    {
      "cell_type": "code",
      "source": [
        "# Pair Plot visualization code\n",
        "\n",
        "cols_to_plot = ['Annual_Income', 'Age', 'Credit_Utilization_Ratio', 'Delay_Ratio', 'Num_of_Loan', 'Credit_Score']\n",
        "\n",
        "sns.pairplot(df[cols_to_plot], hue='Credit_Score', diag_kind='kde', palette='Blues')\n",
        "plt.suptitle('Pairplot of Features with respect to Credit Score', y=1.02)\n",
        "plt.show()\n"
      ],
      "metadata": {
        "id": "o58-TEIhveiU"
      },
      "execution_count": null,
      "outputs": []
    },
    {
      "cell_type": "markdown",
      "source": [
        "##### 1. Why did you pick the specific chart?"
      ],
      "metadata": {
        "id": "EXh0U9oCveiU"
      }
    },
    {
      "cell_type": "markdown",
      "source": [
        "A pairplot is used for multivariate visualization to observe the distribution and bivariate relationships of multiple key numerical features—such as annual income, age, credit utilization, delay ratio, and risk score—categorized by credit score . This helps to visually detect patterns, clusters in the Paisabazaar dataset."
      ],
      "metadata": {
        "id": "eMmPjTByveiU"
      }
    },
    {
      "cell_type": "markdown",
      "source": [
        "##### 2. What is/are the insight(s) found from the chart?"
      ],
      "metadata": {
        "id": "22aHeOlLveiV"
      }
    },
    {
      "cell_type": "markdown",
      "source": [
        "from the above visuals insights show that robust credit modeling at Paisabazaar will need to combine multiple features, as no one variable cleanly separates credit scores—a multivariate approach is essential.\n",
        "\n",
        "The visual evidence supports focus on income and utilization as primary drivers, assisting product targeting, upsell, and risk segmentation.\n",
        "\n",
        "The chart style itself is business-friendly for exploratory analysis sessions and communicating feature-power to data science and business stakeholders."
      ],
      "metadata": {
        "id": "uPQ8RGwHveiV"
      }
    },
    {
      "cell_type": "markdown",
      "source": [
        "## **5. Solution to Business Objective**"
      ],
      "metadata": {
        "id": "JcMwzZxoAimU"
      }
    },
    {
      "cell_type": "markdown",
      "source": [
        "#### What do you suggest the client to achieve Business Objective ?\n"
      ],
      "metadata": {
        "id": "8G2x9gOozGDZ"
      }
    },
    {
      "cell_type": "markdown",
      "source": [
        "\n",
        "To meet Paisabazaar's business objectives effectively, I would like to recommend a strategic approach grounded in data-driven insights and operational precision:\n",
        "\n",
        "1. Predictive Risk-Based Scoring:\n",
        "Utilize the engineered features—annual income, credit utilization ratio, delay ratio, outstanding debt, number of credit inquiries, and composite risk score—within machine learning models to automate credit risk classification. This will allow Paisabazaar to rapidly and accurately assess applicants, leading to faster, more objective loan decisioning and reduced manual intervention.\n",
        "\n",
        "2. Data-Driven Customer Segmentation:\n",
        "Apply clustering and grouping methods on financial and behavioral variables (e.g., loan and credit card usage, payment history, delay ratios) to identify distinct customer profiles. Use these segments to design targeted product offerings, replicate successful customer journeys.\n",
        "\n",
        "3. Continuous Risk Monitoring and Early Intervention:\n",
        "Integrate real-time risk flags and utilization/debt monitoring into loan servicing workflows. When risk indicators (like spikes in utilization or frequent delayed payments) are detected, trigger timely outreach, proactive credit limit management, or tailored repayment options, preventing defaults and preserving portfolio quality.\n",
        "\n",
        "4. Personalized Financial Solutions and Communication:\n",
        "Leverage the insights from risk scoring and segmentation to make personalized product recommendations for each customer—such as offering consolidation loans to high-debt users, specialized cards to disciplined spenders, or insurance add-ons for users with volatile income. Complement this with clear, data-driven advice to build trust and empower customers to improve their credit health.\n",
        "\n",
        "5. Enable Data Transparency and Awareness:\n",
        "Share summary risk profiles and actionable credit tips with customers to enhance engagement and loyalty. Internally, deploy visual dashboards tracking portfolio risk shifts, top risk drivers, and product uptake, ensuring management can steer strategy with agility."
      ],
      "metadata": {
        "id": "pASKb0qOza21"
      }
    },
    {
      "cell_type": "markdown",
      "source": [
        "# **Conclusion**"
      ],
      "metadata": {
        "id": "gCX9965dhzqZ"
      }
    },
    {
      "cell_type": "markdown",
      "source": [
        "After performing the required steps we can see that the customer data analysis underscores the importance of both financial and behavioral factors in assessing credit risk at Paisabazaar. Income, repayment patterns, loan exposure, and credit utilization emerged as the principal drivers of creditworthiness. Notably, while middle-income and working-age customers constitute the majority, repayment discipline and debt management, rather than earnings alone, serve as the clearest predictors of strong credit scores.\n",
        "\n",
        "From visual explorations it is confirmed that customers prone to delayed payments or high utilization present elevated risk, supporting the need for robust risk monitoring and targeted policies for these segments. Conversely, customers with healthy financial ratios and reliable payment histories represent attractive prospects for premium products and cross-sell opportunities.\n",
        "\n",
        "Overall, these insights provide Paisabazaar with actionable guidance for refining risk models, customizing product strategies, and prioritizing resource allocation to balance growth with prudent risk management."
      ],
      "metadata": {
        "id": "Fjb1IsQkh3yE"
      }
    },
    {
      "cell_type": "markdown",
      "source": [
        "### ***Hurrah! You have successfully completed your EDA Capstone Project !!!***"
      ],
      "metadata": {
        "id": "gIfDvo9L0UH2"
      }
    }
  ]
}